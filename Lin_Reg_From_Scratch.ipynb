{
  "nbformat": 4,
  "nbformat_minor": 0,
  "metadata": {
    "colab": {
      "name": "Lin_Reg_From_Scratch.ipynb",
      "provenance": [],
      "authorship_tag": "ABX9TyPQBFsNYKk08Cab8xpYbVPC",
      "include_colab_link": true
    },
    "kernelspec": {
      "name": "python3",
      "display_name": "Python 3"
    },
    "language_info": {
      "name": "python"
    }
  },
  "cells": [
    {
      "cell_type": "markdown",
      "metadata": {
        "id": "view-in-github",
        "colab_type": "text"
      },
      "source": [
        "<a href=\"https://colab.research.google.com/github/niveditapalanisamy/Machine-Learning-Algorithm/blob/main/Lin_Reg_From_Scratch.ipynb\" target=\"_parent\"><img src=\"https://colab.research.google.com/assets/colab-badge.svg\" alt=\"Open In Colab\"/></a>"
      ]
    },
    {
      "cell_type": "code",
      "metadata": {
        "id": "8O_N9cuBIo9Z"
      },
      "source": [
        "import pandas as pd\n",
        "import numpy as np \n",
        "import matplotlib.pyplot as plt\n"
      ],
      "execution_count": null,
      "outputs": []
    },
    {
      "cell_type": "code",
      "metadata": {
        "colab": {
          "base_uri": "https://localhost:8080/",
          "height": 205
        },
        "id": "tgkktom-I373",
        "outputId": "7f146310-37c4-4343-ebcf-b899f0349143"
      },
      "source": [
        "data = pd.read_csv(\"salary_data.csv\") #Training data\n",
        "data.head()"
      ],
      "execution_count": null,
      "outputs": [
        {
          "output_type": "execute_result",
          "data": {
            "text/html": [
              "<div>\n",
              "<style scoped>\n",
              "    .dataframe tbody tr th:only-of-type {\n",
              "        vertical-align: middle;\n",
              "    }\n",
              "\n",
              "    .dataframe tbody tr th {\n",
              "        vertical-align: top;\n",
              "    }\n",
              "\n",
              "    .dataframe thead th {\n",
              "        text-align: right;\n",
              "    }\n",
              "</style>\n",
              "<table border=\"1\" class=\"dataframe\">\n",
              "  <thead>\n",
              "    <tr style=\"text-align: right;\">\n",
              "      <th></th>\n",
              "      <th>YearsExperience</th>\n",
              "      <th>Salary</th>\n",
              "    </tr>\n",
              "  </thead>\n",
              "  <tbody>\n",
              "    <tr>\n",
              "      <th>0</th>\n",
              "      <td>1.1</td>\n",
              "      <td>39343</td>\n",
              "    </tr>\n",
              "    <tr>\n",
              "      <th>1</th>\n",
              "      <td>1.3</td>\n",
              "      <td>46205</td>\n",
              "    </tr>\n",
              "    <tr>\n",
              "      <th>2</th>\n",
              "      <td>1.5</td>\n",
              "      <td>37731</td>\n",
              "    </tr>\n",
              "    <tr>\n",
              "      <th>3</th>\n",
              "      <td>2.0</td>\n",
              "      <td>43525</td>\n",
              "    </tr>\n",
              "    <tr>\n",
              "      <th>4</th>\n",
              "      <td>2.2</td>\n",
              "      <td>39891</td>\n",
              "    </tr>\n",
              "  </tbody>\n",
              "</table>\n",
              "</div>"
            ],
            "text/plain": [
              "   YearsExperience  Salary\n",
              "0              1.1   39343\n",
              "1              1.3   46205\n",
              "2              1.5   37731\n",
              "3              2.0   43525\n",
              "4              2.2   39891"
            ]
          },
          "metadata": {
            "tags": []
          },
          "execution_count": 25
        }
      ]
    },
    {
      "cell_type": "code",
      "metadata": {
        "id": "Uw-M6OV2LShS",
        "colab": {
          "base_uri": "https://localhost:8080/"
        },
        "outputId": "8465e328-bf2e-4d26-9085-feba250789a8"
      },
      "source": [
        "#dataframe.iloc[:,start_col:end_col]\n",
        "X = data.iloc[:,:-1].values\n",
        "y = data.iloc[:,1].values"
      ],
      "execution_count": null,
      "outputs": [
        {
          "output_type": "execute_result",
          "data": {
            "text/plain": [
              "array([ 39343,  46205,  37731,  43525,  39891,  56642,  60150,  54445,\n",
              "        64445,  57189,  63218,  55794,  56957,  57081,  61111,  67938,\n",
              "        66029,  83088,  81363,  93940,  91738,  98273, 101302, 113812,\n",
              "       109431, 105582, 116969, 112635, 122391, 121872])"
            ]
          },
          "metadata": {
            "tags": []
          },
          "execution_count": 26
        }
      ]
    },
    {
      "cell_type": "code",
      "metadata": {
        "colab": {
          "base_uri": "https://localhost:8080/",
          "height": 313
        },
        "id": "DQuzfBQLwSeR",
        "outputId": "31c5c85a-e2f6-4b1a-c96e-68fabd198634"
      },
      "source": [
        "plt.scatter(X,y,color='blue')\n",
        "\n",
        "plt.title( 'Salary vs Experience' )\n",
        "plt.xlabel( 'Years of Experience' )\n",
        "plt.ylabel( 'Salary' )"
      ],
      "execution_count": null,
      "outputs": [
        {
          "output_type": "execute_result",
          "data": {
            "text/plain": [
              "Text(0, 0.5, 'Salary')"
            ]
          },
          "metadata": {
            "tags": []
          },
          "execution_count": 27
        },
        {
          "output_type": "display_data",
          "data": {
            "image/png": "[encoded data removed]",
            "text/plain": [
              "<Figure size 432x288 with 1 Axes>"
            ]
          },
          "metadata": {
            "tags": [],
            "needs_background": "light"
          }
        }
      ]
    },
    {
      "cell_type": "code",
      "metadata": {
        "id": "NlmgAeTJwoQb",
        "colab": {
          "base_uri": "https://localhost:8080/"
        },
        "outputId": "de149828-69ab-4367-d230-9521222a1131"
      },
      "source": [
        "\n",
        "n =len(X)\n",
        "X =  np.c_[np.ones((n,1)),X] # adding ones to x array and converting it to x matrix\n",
        "\n",
        "Y = np.asmatrix(y).transpose() # converting y array to y matrix and taking transpose\n",
        "\n",
        "X=np.asmatrix(X)\n"
      ],
      "execution_count": null,
      "outputs": [
        {
          "output_type": "execute_result",
          "data": {
            "text/plain": [
              "matrix([[ 1. ,  1.1],\n",
              "        [ 1. ,  1.3],\n",
              "        [ 1. ,  1.5],\n",
              "        [ 1. ,  2. ],\n",
              "        [ 1. ,  2.2],\n",
              "        [ 1. ,  2.9],\n",
              "        [ 1. ,  3. ],\n",
              "        [ 1. ,  3.2],\n",
              "        [ 1. ,  3.2],\n",
              "        [ 1. ,  3.7],\n",
              "        [ 1. ,  3.9],\n",
              "        [ 1. ,  4. ],\n",
              "        [ 1. ,  4. ],\n",
              "        [ 1. ,  4.1],\n",
              "        [ 1. ,  4.5],\n",
              "        [ 1. ,  4.9],\n",
              "        [ 1. ,  5.1],\n",
              "        [ 1. ,  5.3],\n",
              "        [ 1. ,  5.9],\n",
              "        [ 1. ,  6. ],\n",
              "        [ 1. ,  6.8],\n",
              "        [ 1. ,  7.1],\n",
              "        [ 1. ,  7.9],\n",
              "        [ 1. ,  8.2],\n",
              "        [ 1. ,  8.7],\n",
              "        [ 1. ,  9. ],\n",
              "        [ 1. ,  9.5],\n",
              "        [ 1. ,  9.6],\n",
              "        [ 1. , 10.3],\n",
              "        [ 1. , 10.5]])"
            ]
          },
          "metadata": {
            "tags": []
          },
          "execution_count": 28
        }
      ]
    },
    {
      "cell_type": "code",
      "metadata": {
        "id": "fhcoF6NBo8vu"
      },
      "source": [
        "def hypo(X,theta):\n",
        "  y_pred = np.dot(X, theta) # dot product of X and theta\n",
        "  #print(y_pred)\n",
        "  return y_pred"
      ],
      "execution_count": null,
      "outputs": []
    },
    {
      "cell_type": "code",
      "metadata": {
        "id": "1sqPyLyypHWX"
      },
      "source": [
        "def cost_function(Y,m,theta):\n",
        "  m = Y.size\n",
        "  y_pred = hypo(X,theta)\n",
        "  cost = (1/(2*m))*np.sum(np.square(y_pred - Y))\n",
        "\n",
        "  return cost\n"
      ],
      "execution_count": null,
      "outputs": []
    },
    {
      "cell_type": "code",
      "metadata": {
        "id": "KJZx80sTpiBc"
      },
      "source": [
        "def grad_des(learning_rate,iteration,X,Y):\n",
        "  m = Y.size\n",
        "  theta = np.zeros((2, 1)) # 2 rows one column filled with zero\n",
        "  cost_list = []\n",
        "\n",
        "  for i in range(iteration):\n",
        "    y_pred = hypo(X,theta)\n",
        "    dif = y_pred - Y\n",
        "    d_theta = (1/m)*np.dot(X.T, dif)\n",
        "    theta = theta - learning_rate*d_theta\n",
        "    cost = cost_function(Y,m,theta)\n",
        "    \n",
        "    cost_list.append(cost)\n",
        "  return theta, cost_list\n"
      ],
      "execution_count": null,
      "outputs": []
    },
    {
      "cell_type": "code",
      "metadata": {
        "id": "PNa3SLOZrBjg"
      },
      "source": [
        "iteration = 1000\n",
        "learning_rate = 0.01"
      ],
      "execution_count": null,
      "outputs": []
    },
    {
      "cell_type": "code",
      "metadata": {
        "colab": {
          "base_uri": "https://localhost:8080/"
        },
        "id": "ADBTMXVAqIvq",
        "outputId": "a9631a51-7040-403f-f4f6-cb7cc45842a6"
      },
      "source": [
        "result = grad_des(learning_rate,iteration,X,Y)\n",
        "result[0]"
      ],
      "execution_count": null,
      "outputs": [
        {
          "output_type": "execute_result",
          "data": {
            "text/plain": [
              "matrix([[22920.48554852],\n",
              "        [ 9876.11275288]])"
            ]
          },
          "metadata": {
            "tags": []
          },
          "execution_count": 33
        }
      ]
    },
    {
      "cell_type": "code",
      "metadata": {
        "id": "9NndYf5sAVOj"
      },
      "source": [
        "iteration = 1000\n",
        "learning_rate = 0.01\n",
        "theta, cost_list = grad_des(learning_rate,iteration,X,Y)"
      ],
      "execution_count": null,
      "outputs": []
    },
    {
      "cell_type": "code",
      "metadata": {
        "id": "CMBU5fHd_1Ib"
      },
      "source": [
        "hyp = np.dot(X,theta)"
      ],
      "execution_count": null,
      "outputs": []
    },
    {
      "cell_type": "code",
      "metadata": {
        "colab": {
          "base_uri": "https://localhost:8080/",
          "height": 283
        },
        "id": "eWIN05QqzewY",
        "outputId": "a5d14491-b542-4e83-8462-9e0ae1240ebd"
      },
      "source": [
        "hx=np.asarray(hyp)\n",
        "X=np.asarray(X[:,1])\n",
        "plt.scatter(X,y,color='blue')\n",
        "plt.plot(X,hx,'y-')"
      ],
      "execution_count": null,
      "outputs": [
        {
          "output_type": "execute_result",
          "data": {
            "text/plain": [
              "[<matplotlib.lines.Line2D at 0x7fa397473390>]"
            ]
          },
          "metadata": {
            "tags": []
          },
          "execution_count": 40
        },
        {
          "output_type": "display_data",
          "data": {
            "image/png": "[encoded data removed]",
            "text/plain": [
              "<Figure size 432x288 with 1 Axes>"
            ]
          },
          "metadata": {
            "tags": [],
            "needs_background": "light"
          }
        }
      ]
    },
    {
      "cell_type": "code",
      "metadata": {
        "id": "jgeg__sMdVWj",
        "colab": {
          "base_uri": "https://localhost:8080/"
        },
        "outputId": "e4c4332d-3ad3-42a1-e382-72fc65d37b8e"
      },
      "source": [
        "# predict \n",
        "np.dot(theta.T,[[1],[6.5]])"
      ],
      "execution_count": null,
      "outputs": [
        {
          "output_type": "execute_result",
          "data": {
            "text/plain": [
              "matrix([[87115.21844224]])"
            ]
          },
          "metadata": {
            "tags": []
          },
          "execution_count": 41
        }
      ]
    },
    {
      "cell_type": "code",
      "metadata": {
        "id": "j0XRcnRbOu1O",
        "colab": {
          "base_uri": "https://localhost:8080/",
          "height": 276
        },
        "outputId": "0a7910cd-e21e-46f5-a1bf-bb68c26f2bc9"
      },
      "source": [
        "rng = np.arange(0, iteration)\n",
        "plt.plot(rng, cost_list)\n",
        "plt.show()"
      ],
      "execution_count": null,
      "outputs": [
        {
          "output_type": "display_data",
          "data": {
            "image/png": "[encoded data removed]",
            "text/plain": [
              "<Figure size 432x288 with 1 Axes>"
            ]
          },
          "metadata": {
            "tags": [],
            "needs_background": "light"
          }
        }
      ]
    },
    {
      "cell_type": "code",
      "metadata": {
        "id": "qS7jO46c8m81",
        "colab": {
          "base_uri": "https://localhost:8080/"
        },
        "outputId": "23278c9f-e034-4ff2-dee9-c09d204ab766"
      },
      "source": [
        "from sklearn.metrics import  r2_score\n",
        "accuracy = r2_score(hx,Y)\n",
        "print(accuracy)"
      ],
      "execution_count": null,
      "outputs": [
        {
          "output_type": "stream",
          "text": [
            "0.9564707368302803\n"
          ],
          "name": "stdout"
        }
      ]
    }
  ]
}