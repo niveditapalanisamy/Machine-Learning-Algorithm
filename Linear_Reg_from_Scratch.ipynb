{
  "nbformat": 4,
  "nbformat_minor": 0,
  "metadata": {
    "colab": {
      "name": "Linear Reg from Scratch.ipynb",
      "provenance": [],
      "collapsed_sections": [],
      "authorship_tag": "ABX9TyPvG7MPWPXr8UkRY4SyU8za",
      "include_colab_link": true
    },
    "kernelspec": {
      "name": "python3",
      "display_name": "Python 3"
    },
    "language_info": {
      "name": "python"
    }
  },
  "cells": [
    {
      "cell_type": "markdown",
      "metadata": {
        "id": "view-in-github",
        "colab_type": "text"
      },
      "source": [
        "<a href=\"https://colab.research.google.com/github/niveditapalanisamy/Machine-Learning-Algorithm/blob/main/Linear_Reg_from_Scratch.ipynb\" target=\"_parent\"><img src=\"https://colab.research.google.com/assets/colab-badge.svg\" alt=\"Open In Colab\"/></a>"
      ]
    },
    {
      "cell_type": "code",
      "metadata": {
        "colab": {
          "base_uri": "https://localhost:8080/",
          "height": 205
        },
        "id": "_b40KM5o6Ack",
        "outputId": "312229b3-9af1-4244-a3db-62ebf48af82c"
      },
      "source": [
        "import pandas as pd\n",
        "import numpy as np\n",
        "\n",
        "data = pd.read_csv(\"salary_data.csv\")\n",
        "data.head()"
      ],
      "execution_count": null,
      "outputs": [
        {
          "output_type": "execute_result",
          "data": {
            "text/html": [
              "<div>\n",
              "<style scoped>\n",
              "    .dataframe tbody tr th:only-of-type {\n",
              "        vertical-align: middle;\n",
              "    }\n",
              "\n",
              "    .dataframe tbody tr th {\n",
              "        vertical-align: top;\n",
              "    }\n",
              "\n",
              "    .dataframe thead th {\n",
              "        text-align: right;\n",
              "    }\n",
              "</style>\n",
              "<table border=\"1\" class=\"dataframe\">\n",
              "  <thead>\n",
              "    <tr style=\"text-align: right;\">\n",
              "      <th></th>\n",
              "      <th>YearsExperience</th>\n",
              "      <th>Salary</th>\n",
              "    </tr>\n",
              "  </thead>\n",
              "  <tbody>\n",
              "    <tr>\n",
              "      <th>0</th>\n",
              "      <td>1.1</td>\n",
              "      <td>39343</td>\n",
              "    </tr>\n",
              "    <tr>\n",
              "      <th>1</th>\n",
              "      <td>1.3</td>\n",
              "      <td>46205</td>\n",
              "    </tr>\n",
              "    <tr>\n",
              "      <th>2</th>\n",
              "      <td>1.5</td>\n",
              "      <td>37731</td>\n",
              "    </tr>\n",
              "    <tr>\n",
              "      <th>3</th>\n",
              "      <td>2.0</td>\n",
              "      <td>43525</td>\n",
              "    </tr>\n",
              "    <tr>\n",
              "      <th>4</th>\n",
              "      <td>2.2</td>\n",
              "      <td>39891</td>\n",
              "    </tr>\n",
              "  </tbody>\n",
              "</table>\n",
              "</div>"
            ],
            "text/plain": [
              "   YearsExperience  Salary\n",
              "0              1.1   39343\n",
              "1              1.3   46205\n",
              "2              1.5   37731\n",
              "3              2.0   43525\n",
              "4              2.2   39891"
            ]
          },
          "metadata": {
            "tags": []
          },
          "execution_count": 5
        }
      ]
    },
    {
      "cell_type": "code",
      "metadata": {
        "colab": {
          "base_uri": "https://localhost:8080/"
        },
        "id": "7i798SGm6yMp",
        "outputId": "bba9abff-560e-4dbc-d9f0-40b129c7f805"
      },
      "source": [
        "data.iloc[3]"
      ],
      "execution_count": null,
      "outputs": [
        {
          "output_type": "execute_result",
          "data": {
            "text/plain": [
              "YearsExperience        2.0\n",
              "Salary             43525.0\n",
              "Name: 3, dtype: float64"
            ]
          },
          "metadata": {
            "tags": []
          },
          "execution_count": 6
        }
      ]
    },
    {
      "cell_type": "code",
      "metadata": {
        "colab": {
          "base_uri": "https://localhost:8080/",
          "height": 431
        },
        "id": "VlBV6hMeJOdx",
        "outputId": "3678bc4f-676a-4724-edd1-cf59c5e22291"
      },
      "source": [
        "X = data[:, 0]\n",
        "Y = data[:, 1].reshape(X.size, 1)\n",
        "X = np.vstack((np.ones((X.size, )), X)).T"
      ],
      "execution_count": null,
      "outputs": [
        {
          "output_type": "error",
          "ename": "TypeError",
          "evalue": "ignored",
          "traceback": [
            "\u001b[0;31m---------------------------------------------------------------------------\u001b[0m",
            "\u001b[0;31mTypeError\u001b[0m                                 Traceback (most recent call last)",
            "\u001b[0;32m<ipython-input-7-0215c0144f97>\u001b[0m in \u001b[0;36m<module>\u001b[0;34m()\u001b[0m\n\u001b[0;32m----> 1\u001b[0;31m \u001b[0mX\u001b[0m \u001b[0;34m=\u001b[0m \u001b[0mdata\u001b[0m\u001b[0;34m[\u001b[0m\u001b[0;34m:\u001b[0m\u001b[0;34m,\u001b[0m \u001b[0;36m0\u001b[0m\u001b[0;34m]\u001b[0m\u001b[0;34m\u001b[0m\u001b[0;34m\u001b[0m\u001b[0m\n\u001b[0m\u001b[1;32m      2\u001b[0m \u001b[0mY\u001b[0m \u001b[0;34m=\u001b[0m \u001b[0mdata\u001b[0m\u001b[0;34m[\u001b[0m\u001b[0;34m:\u001b[0m\u001b[0;34m,\u001b[0m \u001b[0;36m1\u001b[0m\u001b[0;34m]\u001b[0m\u001b[0;34m.\u001b[0m\u001b[0mreshape\u001b[0m\u001b[0;34m(\u001b[0m\u001b[0mX\u001b[0m\u001b[0;34m.\u001b[0m\u001b[0msize\u001b[0m\u001b[0;34m,\u001b[0m \u001b[0;36m1\u001b[0m\u001b[0;34m)\u001b[0m\u001b[0;34m\u001b[0m\u001b[0;34m\u001b[0m\u001b[0m\n\u001b[1;32m      3\u001b[0m \u001b[0mX\u001b[0m \u001b[0;34m=\u001b[0m \u001b[0mnp\u001b[0m\u001b[0;34m.\u001b[0m\u001b[0mvstack\u001b[0m\u001b[0;34m(\u001b[0m\u001b[0;34m(\u001b[0m\u001b[0mnp\u001b[0m\u001b[0;34m.\u001b[0m\u001b[0mones\u001b[0m\u001b[0;34m(\u001b[0m\u001b[0;34m(\u001b[0m\u001b[0mX\u001b[0m\u001b[0;34m.\u001b[0m\u001b[0msize\u001b[0m\u001b[0;34m,\u001b[0m \u001b[0;34m)\u001b[0m\u001b[0;34m)\u001b[0m\u001b[0;34m,\u001b[0m \u001b[0mX\u001b[0m\u001b[0;34m)\u001b[0m\u001b[0;34m)\u001b[0m\u001b[0;34m.\u001b[0m\u001b[0mT\u001b[0m\u001b[0;34m\u001b[0m\u001b[0;34m\u001b[0m\u001b[0m\n",
            "\u001b[0;32m/usr/local/lib/python3.7/dist-packages/pandas/core/frame.py\u001b[0m in \u001b[0;36m__getitem__\u001b[0;34m(self, key)\u001b[0m\n\u001b[1;32m   2904\u001b[0m             \u001b[0;32mif\u001b[0m \u001b[0mself\u001b[0m\u001b[0;34m.\u001b[0m\u001b[0mcolumns\u001b[0m\u001b[0;34m.\u001b[0m\u001b[0mnlevels\u001b[0m \u001b[0;34m>\u001b[0m \u001b[0;36m1\u001b[0m\u001b[0;34m:\u001b[0m\u001b[0;34m\u001b[0m\u001b[0;34m\u001b[0m\u001b[0m\n\u001b[1;32m   2905\u001b[0m                 \u001b[0;32mreturn\u001b[0m \u001b[0mself\u001b[0m\u001b[0;34m.\u001b[0m\u001b[0m_getitem_multilevel\u001b[0m\u001b[0;34m(\u001b[0m\u001b[0mkey\u001b[0m\u001b[0;34m)\u001b[0m\u001b[0;34m\u001b[0m\u001b[0;34m\u001b[0m\u001b[0m\n\u001b[0;32m-> 2906\u001b[0;31m             \u001b[0mindexer\u001b[0m \u001b[0;34m=\u001b[0m \u001b[0mself\u001b[0m\u001b[0;34m.\u001b[0m\u001b[0mcolumns\u001b[0m\u001b[0;34m.\u001b[0m\u001b[0mget_loc\u001b[0m\u001b[0;34m(\u001b[0m\u001b[0mkey\u001b[0m\u001b[0;34m)\u001b[0m\u001b[0;34m\u001b[0m\u001b[0;34m\u001b[0m\u001b[0m\n\u001b[0m\u001b[1;32m   2907\u001b[0m             \u001b[0;32mif\u001b[0m \u001b[0mis_integer\u001b[0m\u001b[0;34m(\u001b[0m\u001b[0mindexer\u001b[0m\u001b[0;34m)\u001b[0m\u001b[0;34m:\u001b[0m\u001b[0;34m\u001b[0m\u001b[0;34m\u001b[0m\u001b[0m\n\u001b[1;32m   2908\u001b[0m                 \u001b[0mindexer\u001b[0m \u001b[0;34m=\u001b[0m \u001b[0;34m[\u001b[0m\u001b[0mindexer\u001b[0m\u001b[0;34m]\u001b[0m\u001b[0;34m\u001b[0m\u001b[0;34m\u001b[0m\u001b[0m\n",
            "\u001b[0;32m/usr/local/lib/python3.7/dist-packages/pandas/core/indexes/base.py\u001b[0m in \u001b[0;36mget_loc\u001b[0;34m(self, key, method, tolerance)\u001b[0m\n\u001b[1;32m   2896\u001b[0m             \u001b[0mcasted_key\u001b[0m \u001b[0;34m=\u001b[0m \u001b[0mself\u001b[0m\u001b[0;34m.\u001b[0m\u001b[0m_maybe_cast_indexer\u001b[0m\u001b[0;34m(\u001b[0m\u001b[0mkey\u001b[0m\u001b[0;34m)\u001b[0m\u001b[0;34m\u001b[0m\u001b[0;34m\u001b[0m\u001b[0m\n\u001b[1;32m   2897\u001b[0m             \u001b[0;32mtry\u001b[0m\u001b[0;34m:\u001b[0m\u001b[0;34m\u001b[0m\u001b[0;34m\u001b[0m\u001b[0m\n\u001b[0;32m-> 2898\u001b[0;31m                 \u001b[0;32mreturn\u001b[0m \u001b[0mself\u001b[0m\u001b[0;34m.\u001b[0m\u001b[0m_engine\u001b[0m\u001b[0;34m.\u001b[0m\u001b[0mget_loc\u001b[0m\u001b[0;34m(\u001b[0m\u001b[0mcasted_key\u001b[0m\u001b[0;34m)\u001b[0m\u001b[0;34m\u001b[0m\u001b[0;34m\u001b[0m\u001b[0m\n\u001b[0m\u001b[1;32m   2899\u001b[0m             \u001b[0;32mexcept\u001b[0m \u001b[0mKeyError\u001b[0m \u001b[0;32mas\u001b[0m \u001b[0merr\u001b[0m\u001b[0;34m:\u001b[0m\u001b[0;34m\u001b[0m\u001b[0;34m\u001b[0m\u001b[0m\n\u001b[1;32m   2900\u001b[0m                 \u001b[0;32mraise\u001b[0m \u001b[0mKeyError\u001b[0m\u001b[0;34m(\u001b[0m\u001b[0mkey\u001b[0m\u001b[0;34m)\u001b[0m \u001b[0;32mfrom\u001b[0m \u001b[0merr\u001b[0m\u001b[0;34m\u001b[0m\u001b[0;34m\u001b[0m\u001b[0m\n",
            "\u001b[0;32mpandas/_libs/index.pyx\u001b[0m in \u001b[0;36mpandas._libs.index.IndexEngine.get_loc\u001b[0;34m()\u001b[0m\n",
            "\u001b[0;32mpandas/_libs/index.pyx\u001b[0m in \u001b[0;36mpandas._libs.index.IndexEngine.get_loc\u001b[0;34m()\u001b[0m\n",
            "\u001b[0;31mTypeError\u001b[0m: '(slice(None, None, None), 0)' is an invalid key"
          ]
        }
      ]
    },
    {
      "cell_type": "code",
      "metadata": {
        "colab": {
          "base_uri": "https://localhost:8080/"
        },
        "id": "HyQgw8dZ-6CM",
        "outputId": "11f716f0-b077-4eea-ddb7-d8effe1a5bad"
      },
      "source": [
        "x = data.iloc[:,:-1].values\n",
        "n =len(x)\n",
        "np.asmatrix(x)"
      ],
      "execution_count": null,
      "outputs": [
        {
          "output_type": "execute_result",
          "data": {
            "text/plain": [
              "matrix([[ 1.1],\n",
              "        [ 1.3],\n",
              "        [ 1.5],\n",
              "        [ 2. ],\n",
              "        [ 2.2],\n",
              "        [ 2.9],\n",
              "        [ 3. ],\n",
              "        [ 3.2],\n",
              "        [ 3.2],\n",
              "        [ 3.7],\n",
              "        [ 3.9],\n",
              "        [ 4. ],\n",
              "        [ 4. ],\n",
              "        [ 4.1],\n",
              "        [ 4.5],\n",
              "        [ 4.9],\n",
              "        [ 5.1],\n",
              "        [ 5.3],\n",
              "        [ 5.9],\n",
              "        [ 6. ],\n",
              "        [ 6.8],\n",
              "        [ 7.1],\n",
              "        [ 7.9],\n",
              "        [ 8.2],\n",
              "        [ 8.7],\n",
              "        [ 9. ],\n",
              "        [ 9.5],\n",
              "        [ 9.6],\n",
              "        [10.3],\n",
              "        [10.5]])"
            ]
          },
          "metadata": {
            "tags": []
          },
          "execution_count": 5
        }
      ]
    },
    {
      "cell_type": "code",
      "metadata": {
        "id": "w-yRP2G1YnWD",
        "colab": {
          "base_uri": "https://localhost:8080/"
        },
        "outputId": "5a3744a9-9fad-4152-99d0-4f74e3e5490e"
      },
      "source": [
        "X =  np.c_[np.ones((n,1)),x]\n",
        "X"
      ],
      "execution_count": null,
      "outputs": [
        {
          "output_type": "execute_result",
          "data": {
            "text/plain": [
              "array([[ 1. ,  1.1],\n",
              "       [ 1. ,  1.3],\n",
              "       [ 1. ,  1.5],\n",
              "       [ 1. ,  2. ],\n",
              "       [ 1. ,  2.2],\n",
              "       [ 1. ,  2.9],\n",
              "       [ 1. ,  3. ],\n",
              "       [ 1. ,  3.2],\n",
              "       [ 1. ,  3.2],\n",
              "       [ 1. ,  3.7],\n",
              "       [ 1. ,  3.9],\n",
              "       [ 1. ,  4. ],\n",
              "       [ 1. ,  4. ],\n",
              "       [ 1. ,  4.1],\n",
              "       [ 1. ,  4.5],\n",
              "       [ 1. ,  4.9],\n",
              "       [ 1. ,  5.1],\n",
              "       [ 1. ,  5.3],\n",
              "       [ 1. ,  5.9],\n",
              "       [ 1. ,  6. ],\n",
              "       [ 1. ,  6.8],\n",
              "       [ 1. ,  7.1],\n",
              "       [ 1. ,  7.9],\n",
              "       [ 1. ,  8.2],\n",
              "       [ 1. ,  8.7],\n",
              "       [ 1. ,  9. ],\n",
              "       [ 1. ,  9.5],\n",
              "       [ 1. ,  9.6],\n",
              "       [ 1. , 10.3],\n",
              "       [ 1. , 10.5]])"
            ]
          },
          "metadata": {
            "tags": []
          },
          "execution_count": 8
        }
      ]
    },
    {
      "cell_type": "code",
      "metadata": {
        "id": "5dUm3EIj_N5R"
      },
      "source": [
        "y = data.iloc[:,1].values\n"
      ],
      "execution_count": null,
      "outputs": []
    },
    {
      "cell_type": "code",
      "metadata": {
        "colab": {
          "base_uri": "https://localhost:8080/"
        },
        "id": "ddKht1EvvvcA",
        "outputId": "7c6ec724-92df-42e1-850f-0a82a666d5a2"
      },
      "source": [
        "Y = np.asmatrix(y).transpose()\n",
        "Y"
      ],
      "execution_count": null,
      "outputs": [
        {
          "output_type": "execute_result",
          "data": {
            "text/plain": [
              "matrix([[ 39343],\n",
              "        [ 46205],\n",
              "        [ 37731],\n",
              "        [ 43525],\n",
              "        [ 39891],\n",
              "        [ 56642],\n",
              "        [ 60150],\n",
              "        [ 54445],\n",
              "        [ 64445],\n",
              "        [ 57189],\n",
              "        [ 63218],\n",
              "        [ 55794],\n",
              "        [ 56957],\n",
              "        [ 57081],\n",
              "        [ 61111],\n",
              "        [ 67938],\n",
              "        [ 66029],\n",
              "        [ 83088],\n",
              "        [ 81363],\n",
              "        [ 93940],\n",
              "        [ 91738],\n",
              "        [ 98273],\n",
              "        [101302],\n",
              "        [113812],\n",
              "        [109431],\n",
              "        [105582],\n",
              "        [116969],\n",
              "        [112635],\n",
              "        [122391],\n",
              "        [121872]])"
            ]
          },
          "metadata": {
            "tags": []
          },
          "execution_count": 17
        }
      ]
    },
    {
      "cell_type": "code",
      "metadata": {
        "id": "U_iOA0WBsD-k"
      },
      "source": [
        ""
      ],
      "execution_count": null,
      "outputs": []
    },
    {
      "cell_type": "code",
      "metadata": {
        "colab": {
          "base_uri": "https://localhost:8080/",
          "height": 313
        },
        "id": "BcYmYRE3AD1V",
        "outputId": "751add62-4302-4dc3-c505-394a9a3bb4fa"
      },
      "source": [
        "import matplotlib.pyplot as plt\n",
        "plt.scatter(x,y,color='blue')\n",
        "\n",
        "plt.title( 'Salary vs Experience' )\n",
        "plt.xlabel( 'Years of Experience' )\n",
        "\n",
        "plt.ylabel( 'Salary' )"
      ],
      "execution_count": null,
      "outputs": [
        {
          "output_type": "execute_result",
          "data": {
            "text/plain": [
              "Text(0, 0.5, 'Salary')"
            ]
          },
          "metadata": {
            "tags": []
          },
          "execution_count": 14
        },
        {
          "output_type": "display_data",
          "data": {
            "image/png": "[encoded data removed]",
            "text/plain": [
              "<Figure size 432x288 with 1 Axes>"
            ]
          },
          "metadata": {
            "tags": [],
            "needs_background": "light"
          }
        }
      ]
    },
    {
      "cell_type": "code",
      "metadata": {
        "colab": {
          "base_uri": "https://localhost:8080/",
          "height": 313
        },
        "id": "Xm4mrrb2B22j",
        "outputId": "fd5b9036-b7ee-41f6-9371-326424a5b321"
      },
      "source": [
        "plt.plot(x,y)\n",
        "plt.title( 'Salary vs Experience' )\n",
        "plt.xlabel( 'Years of Experience' )\n",
        "plt.ylabel( 'Salary' )"
      ],
      "execution_count": null,
      "outputs": [
        {
          "output_type": "execute_result",
          "data": {
            "text/plain": [
              "Text(0, 0.5, 'Salary')"
            ]
          },
          "metadata": {
            "tags": []
          },
          "execution_count": 15
        },
        {
          "output_type": "display_data",
          "data": {
            "image/png": "[encoded data removed]",
            "text/plain": [
              "<Figure size 432x288 with 1 Axes>"
            ]
          },
          "metadata": {
            "tags": [],
            "needs_background": "light"
          }
        }
      ]
    },
    {
      "cell_type": "code",
      "metadata": {
        "id": "SjFLVDZoCoD5",
        "colab": {
          "base_uri": "https://localhost:8080/"
        },
        "outputId": "fb4fe020-ef78-4064-9c3e-50eba1b6d726"
      },
      "source": [
        "import numpy as np\n",
        "\n",
        "def hypo(X,Y,learning_rate,iteration):\n",
        "  m = Y.size\n",
        "  theta = np.zeros((,1)) \n",
        "  for i in range(iteration):\n",
        "    y_pred = np.dot(X,theta)\n",
        "    cost = (1/(2*m))*np.sum(np.square(y_pred-y))\n",
        "    d_theta = (1/m)*np.dot(x.T,y_pred - y)\n",
        "    theta = theta -learning_rate*d_theta\n",
        "  print(\"y_pred:\",y_pred)\n",
        "  print(\"cost:\",cost)\n",
        "  print(\"theta\",theta)\n",
        "\n",
        "#iteration=1000  \n",
        "hypo(X,Y,0.01,)"
      ],
      "execution_count": null,
      "outputs": [
        {
          "output_type": "stream",
          "text": [
            "y_pred: [[ 10621.5628841   12474.12025163  10186.36578756  11750.59157997\n",
            "   10769.50829906  15291.83247036  16238.89910477  14698.70094362\n",
            "   17398.43479313  15439.50791193  17067.17744979  15062.89503992\n",
            "   15376.87408662  15410.35078635  16498.3435277   18341.45182676\n",
            "   17826.07263489  22431.54860876  21965.84451972  25361.29978224\n",
            "   24766.81838858  26531.09445923  27348.84384225  30726.21088797\n",
            "   29543.45748851  28504.32992983  31578.51686426  30408.45221389\n",
            "   33042.31255746  32902.19637068]\n",
            " [ 11633.14030164  13662.13170417  11156.49586257  12869.69553996\n",
            "   11795.17575611  16748.19746754  17785.46092427  16098.57722397\n",
            "   19055.42858295  16909.93723687  18692.6229212   16497.4564723\n",
            "   16841.33828535  16878.0032422   18069.61433987  20088.25676264\n",
            "   19523.79383821  24567.8865715   24057.82971207  27776.66166626\n",
            "   27125.56299702  29057.86536011  29953.49563674  33652.51668683\n",
            "   32357.12010646  31219.02801839  34585.99466086  33304.49528188\n",
            "   36189.1994677   36035.73888217]\n",
            " [ 12644.71771917  14850.14315671  12126.62593758  13988.79949996\n",
            "   12820.84321316  18204.56246471  19332.02274377  17498.45350431\n",
            "   20712.42237277  18380.36656182  20318.06839261  17932.01790467\n",
            "   18305.80248407  18345.65569804  19640.88515203  21835.06169852\n",
            "   21221.51504154  26704.22453424  26149.81490443  30192.02355029\n",
            "   29484.30760545  31584.63626099  32558.14743124  36578.82248568\n",
            "   35170.78272441  33933.72610694  37593.47245746  36200.53834987\n",
            "   39336.08637793  39169.28139366]\n",
            " [ 15173.66126301  17820.17178805  14551.95112509  16786.55939995\n",
            "   15385.01185579  21845.47495766  23198.42729252  20998.14420518\n",
            "   24854.90684733  22056.43987418  24381.68207113  21518.4214856\n",
            "   21966.96298089  22014.78683765  23569.06218243  26202.07403823\n",
            "   25465.81804984  32045.06944108  31379.77788531  36230.42826034\n",
            "   35381.16912654  37901.56351319  39069.77691749  43894.58698282\n",
            "   42204.9392693   40720.47132833  45112.16694895  43440.64601984\n",
            "   47203.30365352  47003.13767239]\n",
            " [ 16185.23868054  19008.18324058  15522.0812001   17905.66335995\n",
            "   16410.67931285  23301.83995484  24744.98911203  22398.02048552\n",
            "   26511.90063715  23526.86919913  26007.12754254  22952.98291798\n",
            "   23431.42717961  23482.43929349  25140.3329946   27948.87897411\n",
            "   27163.53925317  34181.40740382  33471.76307767  38645.79014437\n",
            "   37739.91373498  40428.33441407  41674.42871199  46820.89278168\n",
            "   45018.60188725  43435.16941689  48119.64474554  46336.68908783\n",
            "   50350.19056376  50136.68018389]\n",
            " [ 19725.75964191  23166.22332446  18917.53646262  21822.52721994\n",
            "   20000.51541253  28399.11744496  30157.95548028  27297.58746673\n",
            "   32311.37890152  28673.37183644  31696.18669248  27973.94793128\n",
            "   28557.05187515  28619.22288894  30639.78083716  34062.6962497\n",
            "   33105.5634648   41658.59027341  40793.71125091  47099.55673845\n",
            "   45995.51986451  49272.03256714  50790.70999274  57062.96307767\n",
            "   54866.42105008  52936.61272683  58645.81703363  56472.83982579\n",
            "   61364.29474958  61104.07897411]\n",
            " [ 20231.54835067  23760.22905073  19402.60150012  22382.07919994\n",
            "   20513.34914106  29127.29994354  30931.23639003  27997.5256069\n",
            "   33139.87579644  29408.58649891  32508.90942818  28691.22864747\n",
            "   29289.28397451  29353.04911686  31425.41624325  34936.09871764\n",
            "   33954.42406646  42726.75925478  41839.70384708  48307.23768046\n",
            "   47174.89216872  50535.41801758  52093.03588999  58526.11597709\n",
            "   56273.25235906  54293.96177111  60149.55593193  57920.86135979\n",
            "   62937.73820469  62670.85022986]\n",
            " [ 21243.12576821  24948.24050327  20372.73157513  23501.18315993\n",
            "   21539.01659811  30583.66494072  32477.79820953  29397.40188725\n",
            "   34796.86958626  30879.01582386  34134.35489959  30125.79007985\n",
            "   30753.74817324  30820.70157271  32996.68705541  36682.90365352\n",
            "   35652.14526978  44863.09721752  43931.68903944  50722.59956448\n",
            "   49533.63677716  53062.18891846  54697.68768449  61452.42177595\n",
            "   59086.91497701  57008.65985967  63157.03372853  60816.90442778\n",
            "   66084.62511493  65804.39274135]\n",
            " [ 21243.12576821  24948.24050327  20372.73157513  23501.18315993\n",
            "   21539.01659811  30583.66494072  32477.79820953  29397.40188725\n",
            "   34796.86958626  30879.01582386  34134.35489959  30125.79007985\n",
            "   30753.74817324  30820.70157271  32996.68705541  36682.90365352\n",
            "   35652.14526978  44863.09721752  43931.68903944  50722.59956448\n",
            "   49533.63677716  53062.18891846  54697.68768449  61452.42177595\n",
            "   59086.91497701  57008.65985967  63157.03372853  60816.90442778\n",
            "   66084.62511493  65804.39274135]\n",
            " [ 23772.06931204  27918.26913461  22798.05676264  26298.94305992\n",
            "   24103.18524075  34224.57743366  36344.20275829  32897.09258811\n",
            "   38939.35406081  34555.08913622  38197.96857811  33712.19366078\n",
            "   34414.90867005  34489.83271232  36924.86408581  41049.91599323\n",
            "   39896.44827809  50203.94212436  49161.65202032  56761.00427454\n",
            "   55430.49829825  59379.11617066  61209.31717074  68768.18627309\n",
            "   66121.0715219   63795.40508105  70675.72822002  68057.01209775\n",
            "   73951.84239052  73638.24902008]\n",
            " [ 24783.64672957  29106.28058714  23768.18683765  27418.04701992\n",
            "   25128.8526978   35680.94243084  37890.76457779  34296.96886846\n",
            "   40596.34785063  36025.51846117  39823.41404952  35146.75509315\n",
            "   35879.37286878  35957.48516816  38496.13489798  42796.72092911\n",
            "   41594.16948141  52340.2800871   51253.63721268  59176.36615856\n",
            "   57789.24290669  61905.88707154  63813.96896524  71694.49207194\n",
            "   68934.73413985  66510.10316961  73683.20601661  70953.05516574\n",
            "   77098.72930075  76771.79153158]\n",
            " [ 25289.43543834  29700.28631341  24253.25187515  27977.59899992\n",
            "   25641.68642632  36409.12492943  38664.04548754  34996.90700863\n",
            "   41424.84474554  36760.73312364  40636.13678522  35864.03580934\n",
            "   36611.60496814  36691.31139608  39281.77030406  43670.12339705\n",
            "   42443.03008307  53408.44906847  52299.62980886  60384.04710057\n",
            "   58968.6152109   63169.27252198  65116.29486249  73157.64497137\n",
            "   70341.56544883  67867.45221389  75186.94491491  72401.07669973\n",
            "   78672.17275587  78338.56278732]\n",
            " [ 25289.43543834  29700.28631341  24253.25187515  27977.59899992\n",
            "   25641.68642632  36409.12492943  38664.04548754  34996.90700863\n",
            "   41424.84474554  36760.73312364  40636.13678522  35864.03580934\n",
            "   36611.60496814  36691.31139608  39281.77030406  43670.12339705\n",
            "   42443.03008307  53408.44906847  52299.62980886  60384.04710057\n",
            "   58968.6152109   63169.27252198  65116.29486249  73157.64497137\n",
            "   70341.56544883  67867.45221389  75186.94491491  72401.07669973\n",
            "   78672.17275587  78338.56278732]\n",
            " [ 25795.22414711  30294.29203968  24738.31691265  28537.15097992\n",
            "   26154.52015485  37137.30742802  39437.32639729  35696.8451488\n",
            "   42253.34164045  37495.94778611  41448.85952093  36581.31652553\n",
            "   37343.83706751  37425.137624    40067.40571014  44543.52586499\n",
            "   43291.89068473  54476.61804984  53345.62240503  61591.72804258\n",
            "   60147.98751512  64432.65797242  66418.62075974  74620.7978708\n",
            "   71748.3967578   69224.80125817  76690.68381321  73849.09823373\n",
            "   80245.61621098  79905.33404307]\n",
            " [ 27818.37898218  32670.31494475  26678.57706267  30775.35889991\n",
            "   28205.85506896  40050.03742237  42530.45003629  38496.59770949\n",
            "   45567.3292201   40436.806436    44699.75046375  39450.43939027\n",
            "   40272.76546496  40360.44253569  43209.94733446  48037.13573675\n",
            "   46687.33309138  58749.29397532  57529.59278974  66422.45181063\n",
            "   64865.47673199  69486.19977418  71627.92434874  80473.40946851\n",
            "   77375.72199371  74654.19743528  82705.6394064   79641.18436971\n",
            "   86539.39003145  86172.41906605]\n",
            " [ 29841.53381724  35046.33784983  28618.83721268  33013.5668199\n",
            "   30257.18998306  42962.76741673  45623.5736753   41296.35027018\n",
            "   48881.31679974  43377.66508589  47950.64140657  42319.56225502\n",
            "   43201.69386241  43295.74744737  46352.48895879  51530.74560852\n",
            "   50082.77549802  63021.9699008   61713.56317445  71253.17557868\n",
            "   69582.96594887  74539.74157593  76837.22793774  86326.02106622\n",
            "   83003.04722962  80083.59361239  88720.5949996   85433.27050569\n",
            "   92833.16385192  92439.50408904]\n",
            " [ 30853.11123478  36234.34930236  29588.96728768  34132.6707799\n",
            "   31282.85744012  44419.1324139   47170.1354948   42696.22655053\n",
            "   50538.31058956  44848.09441084  49576.08687797  43754.12368739\n",
            "   44666.15806113  44763.39990322  47923.75977095  53277.5505444\n",
            "   51780.49670135  65158.30786354  63805.5483668   73668.5374627\n",
            "   71941.7105573   77066.51247681  79441.87973224  89252.32686507\n",
            "   85816.70984757  82798.29170094  91728.07279619  88329.31357368\n",
            "   95980.05076216  95573.04660053]\n",
            " [ 31864.68865231  37422.3607549   30559.09736269  35251.7747399\n",
            "   32308.52489717  45875.49741108  48716.6973143   44096.10283087\n",
            "   52195.30437939  46318.52373579  51201.53234938  45188.68511977\n",
            "   46130.62225986  46231.05235906  49495.03058311  55024.35548028\n",
            "   53478.21790467  67294.64582628  65897.53355916  76083.89934672\n",
            "   74300.45516574  79593.28337769  82046.53152674  92178.63266392\n",
            "   88630.37246552  85512.9897895   94735.55059279  91225.35664166\n",
            "   99126.93767239  98706.58911203]\n",
            " [ 34899.42090491  40986.39511251  33469.48758771  38609.08661989\n",
            "   35385.52726833  50244.59240261  53356.3827728   48295.73167191\n",
            "   57166.28574885  50729.81171062  56077.86876361  49492.36941689\n",
            "   50524.01485604  50634.00972659  54208.8430196   60264.77028793\n",
            "   58571.38151464  73703.65971449  72173.48913622  83329.98499879\n",
            "   81376.68899105  87173.59608033  89860.48691023 100957.55006049\n",
            "   97071.36031938  93657.08405517 103757.98398258  99913.48584563\n",
            "  108567.5984031  108107.2166465 ]\n",
            " [ 35405.20961368  41580.40083878  33954.55262521  39168.63859989\n",
            "   35898.36099685  50972.7749012   54129.66368256  48995.66981208\n",
            "   57994.78264376  51465.02637309  56890.59149931  50209.65013308\n",
            "   51256.2469554   51367.83595451  54994.47842568  61138.17275587\n",
            "   59420.2421163   74771.82869586  73219.4817324   84537.6659408\n",
            "   82556.06129527  88436.98153077  91162.81280748 102420.70295992\n",
            "   98478.19162836  95014.43309944 105261.72288088 101361.50737963\n",
            "  110141.04185821 109673.98790225]\n",
            " [ 39451.51928381  46332.44664892  37835.07292524  43645.05443987\n",
            "   40001.03082507  56798.23488991  60315.91096056  54595.17493346\n",
            "   64622.75780305  57346.74367288  63392.37338495  55947.89586257\n",
            "   57114.1037503   57238.44577789  61279.56167433  68125.3924994\n",
            "   66211.12692959  83317.18054682  81587.42250181  94199.11347689\n",
            "   91991.03972901  98544.06513429 101581.41998548 114125.92615534\n",
            "  109732.84210017 105873.22545367 117291.63406726 112945.67965158\n",
            "  122728.58949915 122208.15794822]\n",
            " [ 40968.88541011  48114.46382773  39290.26803774  45323.71037987\n",
            "   41539.53201065  58982.78238568  62635.75368981  56694.98935398\n",
            "   67108.24848778  59552.3876603   65830.54159206  58099.73801113\n",
            "   59310.80004839  59439.92446165  63636.46789257  70745.59990322\n",
            "   68757.70873458  86521.68749093  84725.40029035  97822.15630293\n",
            "   95529.15664166 102334.2214856  105488.39767723 118515.38485362\n",
            "  113953.3360271  109945.2725865  121802.85076216 117289.74425357\n",
            "  127448.91986451 126908.47171546]\n",
            " [ 45015.19508025  52866.50963787  43170.78833777  49800.12621986\n",
            "   45642.20183886  64808.24237439  68822.00096782  62294.49447536\n",
            "   73736.22364707  65434.10496008  72332.3234777   63837.98374062\n",
            "   65168.65684329  65310.53428502  69921.55114122  77732.81964675\n",
            "   75548.59354787  95067.03934188  93093.34105976 107483.60383902\n",
            "  104964.13507541 112441.30508912 115907.00485523 130220.60804904\n",
            "  125207.98649891 120804.06494072 133832.76194854 128873.91652553\n",
            "  140036.46750544 139442.64176143]\n",
            " [ 46532.56120655  54648.52681668  44625.98345028  51478.78215985\n",
            "   47180.70302444  66992.78987015  71141.84369707  64394.30889588\n",
            "   76221.7143318   67639.7489475   74770.49168481  65989.82588918\n",
            "   67365.35314138  67512.01296879  72278.45735946  80353.02705057\n",
            "   78095.17535285  98271.54628599  96231.31884829 111106.64666505\n",
            "  108502.25198806 116231.46144044 119813.98254698 134610.06674732\n",
            "  129428.48042584 124876.11207355 138343.97864344 133217.98112751\n",
            "  144756.7978708  144142.95552867]\n",
            " [ 49061.50475038  57618.55544802  47051.30863779  54276.54205984\n",
            "   49744.87166707  70633.70236309  75008.24824583  67893.99959674\n",
            "   80364.19880636  71315.82225986  78834.10536334  69576.22947012\n",
            "   71026.5136382   71181.1441084   76206.63438987  84720.03939027\n",
            "   82339.47836116 103612.39119284 101461.28182918 117145.05137511\n",
            "  114399.11350915 122548.38869264 126325.61203323 141925.83124446\n",
            "  136462.63697072 131662.85729494 145862.67313493 140458.08879748\n",
            "  152624.01514638 151976.8118074 ]\n",
            " [ 50578.87087668  59400.57262682  48506.5037503   55955.19799984\n",
            "   51283.37285265  72818.24985886  77328.09097508  69993.81401726\n",
            "   82849.68949109  73521.46624728  81272.27357045  71728.07161868\n",
            "   73223.20993629  73382.62279216  78563.54060811  87340.2467941\n",
            "   84886.06016614 106816.89813695 104599.25961771 120768.09420115\n",
            "  117937.23042181 126338.54504396 130232.58972498 146315.28994274\n",
            "  140683.13089765 135734.90442778 150373.88982982 144802.15339947\n",
            "  157344.34551173 156677.12557464]\n",
            " [ 53107.81442052  62370.60125817  50931.82893782  58752.95789983\n",
            "   53847.54149528  76459.1623518   81194.49552383  73493.50471812\n",
            "   86992.17396564  77197.53955964  85335.88724897  75314.47519961\n",
            "   76884.3704331   77051.75393177  82491.71763852  91707.2591338\n",
            "   89130.36317445 112157.74304379 109829.2225986  126806.4989112\n",
            "  123834.0919429  132655.47229615 136744.21921123 153631.05443987\n",
            "  147717.28744254 142521.64964917 157892.58432132 152042.26106944\n",
            "  165211.56278732 164510.98185338]\n",
            " [ 53613.60312928  62964.60698443  51416.89397532  59312.50987983\n",
            "   54360.37522381  77187.34485039  81967.77643358  74193.4428583\n",
            "   87820.67086055  77932.75422211  86148.60998468  76031.7559158\n",
            "   77616.60253246  77785.58015969  83277.3530446   92580.66160174\n",
            "   89979.22377611 113225.91202516 110875.21519477 128014.17985321\n",
            "  125013.46424712 133918.85774659 138046.54510848 155094.2073393\n",
            "  149124.11875151 143878.99869344 159396.32321961 153490.28260344\n",
            "  166785.00624244 166077.75310912]\n",
            " [ 57154.12409065  67122.64706831  54812.34923784  63229.37373982\n",
            "   57950.21132349  82284.62234051  87380.74280184  79093.0098395\n",
            "   93620.14912493  83079.25685942  91837.66913461  81052.72092911\n",
            "   82742.227228    82922.36375514  88776.80088717  98694.47887733\n",
            "   95921.24798774 120703.09489475 118197.16336801 136467.94644729\n",
            "  133269.07037664 142762.55589967 147162.82638922 165336.27763529\n",
            "  158971.93791435 153380.44200339 169922.4955077  163626.4333414\n",
            "  177799.11042826 177045.15189935]\n",
            " [ 58165.70150819  68310.65852085  55782.47931285  64348.47769981\n",
            "   58975.87878055  83740.98733769  88927.30462134  80492.88611985\n",
            "   95277.14291475  84549.68618437  93463.11460602  82487.28236148\n",
            "   84206.69142673  84390.01621098  90348.07169933 100441.28381321\n",
            "   97618.96919106 122839.43285749 120289.14856037 138883.30833132\n",
            "  135627.81498508 145289.32680055 149767.47818372 168262.58343415\n",
            "  161785.6005323  156095.14009194 172929.9733043  166522.47640939\n",
            "  180945.9973385  180178.69441084]]\n",
            "cost: 16011868931.969765\n",
            "theta [[ 5057.88708767  5940.05726268  4850.65037503  5595.51979998\n",
            "   5128.33728526  7281.82498589  7732.80909751  6999.38140173\n",
            "   8284.96894911  7352.14662473  8127.22735704  7172.80716187\n",
            "   7322.32099363  7338.26227922  7856.35406081  8734.02467941\n",
            "   8488.60601661 10681.68981369 10459.92596177 12076.80942011\n",
            "  11793.72304218 12633.8545044  13023.2589725  14631.52899427\n",
            "  14068.31308977 13573.49044278 15037.38898298 14480.21533995\n",
            "  15734.43455117 15667.71255746]\n",
            " [ 5057.88708767  5940.05726268  4850.65037503  5595.51979998\n",
            "   5128.33728526  7281.82498589  7732.80909751  6999.38140173\n",
            "   8284.96894911  7352.14662473  8127.22735704  7172.80716187\n",
            "   7322.32099363  7338.26227922  7856.35406081  8734.02467941\n",
            "   8488.60601661 10681.68981369 10459.92596177 12076.80942011\n",
            "  11793.72304218 12633.8545044  13023.2589725  14631.52899427\n",
            "  14068.31308977 13573.49044278 15037.38898298 14480.21533995\n",
            "  15734.43455117 15667.71255746]]\n"
          ],
          "name": "stdout"
        }
      ]
    },
    {
      "cell_type": "code",
      "metadata": {
        "colab": {
          "base_uri": "https://localhost:8080/"
        },
        "id": "V5MeTPOnu0qx",
        "outputId": "c320f133-7e60-494e-cc5d-ed8167808ee6"
      },
      "source": [
        "def hypo(X,theta):\n",
        "  #m = Y.size\n",
        "  y_pred = np.dot(X,theta)\n",
        "  #print(y_pred)\n",
        "  return y_pred\n",
        "\n",
        "y_p=hypo(X,[[ 760.03 ],\n",
        "        [4773.987]])\n",
        "0.01*(1/30)*np.dot(X.T,(y_p-Y))"
      ],
      "execution_count": null,
      "outputs": [
        {
          "output_type": "execute_result",
          "data": {
            "text/plain": [
              "matrix([[ -498.7718574 ],\n",
              "        [-3014.17308817]])"
            ]
          },
          "metadata": {
            "tags": []
          },
          "execution_count": 70
        }
      ]
    },
    {
      "cell_type": "code",
      "metadata": {
        "id": "JhCMgoicLZoV",
        "colab": {
          "base_uri": "https://localhost:8080/",
          "height": 207
        },
        "outputId": "fe4a71d2-37b4-4ecd-e111-bcd8d663bec0"
      },
      "source": [
        "def cost_function(y_pred):\n",
        "  m = y.size\n",
        "  cost = (1/(2*m))*np.sum(np.square(y_pred-y))\n",
        "  print(cost)\n",
        "cost_function(y_pred)"
      ],
      "execution_count": null,
      "outputs": [
        {
          "output_type": "error",
          "ename": "NameError",
          "evalue": "ignored",
          "traceback": [
            "\u001b[0;31m---------------------------------------------------------------------------\u001b[0m",
            "\u001b[0;31mNameError\u001b[0m                                 Traceback (most recent call last)",
            "\u001b[0;32m<ipython-input-1-9ca057bd1e4d>\u001b[0m in \u001b[0;36m<module>\u001b[0;34m()\u001b[0m\n\u001b[1;32m      3\u001b[0m   \u001b[0mcost\u001b[0m \u001b[0;34m=\u001b[0m \u001b[0;34m(\u001b[0m\u001b[0;36m1\u001b[0m\u001b[0;34m/\u001b[0m\u001b[0;34m(\u001b[0m\u001b[0;36m2\u001b[0m\u001b[0;34m*\u001b[0m\u001b[0mm\u001b[0m\u001b[0;34m)\u001b[0m\u001b[0;34m)\u001b[0m\u001b[0;34m*\u001b[0m\u001b[0mnp\u001b[0m\u001b[0;34m.\u001b[0m\u001b[0msum\u001b[0m\u001b[0;34m(\u001b[0m\u001b[0mnp\u001b[0m\u001b[0;34m.\u001b[0m\u001b[0msquare\u001b[0m\u001b[0;34m(\u001b[0m\u001b[0my_pred\u001b[0m\u001b[0;34m-\u001b[0m\u001b[0my\u001b[0m\u001b[0;34m)\u001b[0m\u001b[0;34m)\u001b[0m\u001b[0;34m\u001b[0m\u001b[0;34m\u001b[0m\u001b[0m\n\u001b[1;32m      4\u001b[0m   \u001b[0mprint\u001b[0m\u001b[0;34m(\u001b[0m\u001b[0mcost\u001b[0m\u001b[0;34m)\u001b[0m\u001b[0;34m\u001b[0m\u001b[0;34m\u001b[0m\u001b[0m\n\u001b[0;32m----> 5\u001b[0;31m \u001b[0mcost_function\u001b[0m\u001b[0;34m(\u001b[0m\u001b[0my_pred\u001b[0m\u001b[0;34m)\u001b[0m\u001b[0;34m\u001b[0m\u001b[0;34m\u001b[0m\u001b[0m\n\u001b[0m",
            "\u001b[0;31mNameError\u001b[0m: name 'y_pred' is not defined"
          ]
        }
      ]
    },
    {
      "cell_type": "code",
      "metadata": {
        "id": "LERhdcXuMWb7",
        "colab": {
          "base_uri": "https://localhost:8080/"
        },
        "outputId": "ffb8d4ea-d041-4177-d692-f28aa9970e56"
      },
      "source": [
        "def grad_descent(X,Y,learning_rate):\n",
        "  m= Y.size\n",
        "  theta = np.zeros((2,1))\n",
        "  for i in range(1):\n",
        "    y_pred=hypo(X,theta)\n",
        "    d_theta = (1/m)*np.dot(X.T,y_pred - Y)\n",
        "    theta = theta -learning_rate*d_theta\n",
        "  #print(theta)\n",
        "  return theta\n",
        "\n",
        "grad_descent(X,Y,0.01)\n"
      ],
      "execution_count": null,
      "outputs": [
        {
          "output_type": "execute_result",
          "data": {
            "text/plain": [
              "matrix([[ 760.03 ],\n",
              "        [4773.987]])"
            ]
          },
          "metadata": {
            "tags": []
          },
          "execution_count": 68
        }
      ]
    },
    {
      "cell_type": "code",
      "metadata": {
        "id": "E9yuanOVKJg6"
      },
      "source": [
        "cost = (1/(2*m))*np.sum(np.square(y_pred-y))\n",
        "    d_theta = (1/m)*np.dot(x.T,y_pred - y)\n",
        "    theta = theta -learning_rate*d_theta\n",
        "    cost_list.append(cost)\n",
        "\n",
        "  return theta.cost_list\n",
        "\n",
        "  p = model(x,y,0.01,1000)"
      ],
      "execution_count": null,
      "outputs": []
    },
    {
      "cell_type": "code",
      "metadata": {
        "id": "1PKP_5YNr-CC"
      },
      "source": [
        ""
      ],
      "execution_count": null,
      "outputs": []
    }
  ]
}